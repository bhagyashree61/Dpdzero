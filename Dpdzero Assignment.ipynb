{
 "cells": [
  {
   "cell_type": "code",
   "execution_count": 7,
   "id": "90900f1a",
   "metadata": {},
   "outputs": [],
   "source": [
    "import pandas as pd \n",
    "import numpy as np \n",
    "import seaborn as sns\n",
    "import matplotlib.pyplot as plt"
   ]
  },
  {
   "cell_type": "code",
   "execution_count": 9,
   "id": "ffb75a51",
   "metadata": {},
   "outputs": [],
   "source": [
    "df=pd.read_csv(r\"C:\\Users\\bhagy\\Desktop\\Data_Analyst_Assignment_Dataset.csv\")"
   ]
  },
  {
   "cell_type": "code",
   "execution_count": 10,
   "id": "7a49c079",
   "metadata": {},
   "outputs": [
    {
     "data": {
      "text/html": [
       "<div>\n",
       "<style scoped>\n",
       "    .dataframe tbody tr th:only-of-type {\n",
       "        vertical-align: middle;\n",
       "    }\n",
       "\n",
       "    .dataframe tbody tr th {\n",
       "        vertical-align: top;\n",
       "    }\n",
       "\n",
       "    .dataframe thead th {\n",
       "        text-align: right;\n",
       "    }\n",
       "</style>\n",
       "<table border=\"1\" class=\"dataframe\">\n",
       "  <thead>\n",
       "    <tr style=\"text-align: right;\">\n",
       "      <th></th>\n",
       "      <th>Amount Pending</th>\n",
       "      <th>State</th>\n",
       "      <th>Tenure</th>\n",
       "      <th>Interest Rate</th>\n",
       "      <th>City</th>\n",
       "      <th>Bounce String</th>\n",
       "      <th>Disbursed Amount</th>\n",
       "      <th>Loan Number</th>\n",
       "    </tr>\n",
       "  </thead>\n",
       "  <tbody>\n",
       "    <tr>\n",
       "      <th>0</th>\n",
       "      <td>963</td>\n",
       "      <td>Karnataka</td>\n",
       "      <td>11</td>\n",
       "      <td>7.69</td>\n",
       "      <td>Bangalore</td>\n",
       "      <td>SSS</td>\n",
       "      <td>10197</td>\n",
       "      <td>JZ6FS</td>\n",
       "    </tr>\n",
       "    <tr>\n",
       "      <th>1</th>\n",
       "      <td>1194</td>\n",
       "      <td>Karnataka</td>\n",
       "      <td>11</td>\n",
       "      <td>6.16</td>\n",
       "      <td>Bangalore</td>\n",
       "      <td>SSB</td>\n",
       "      <td>12738</td>\n",
       "      <td>RDIOY</td>\n",
       "    </tr>\n",
       "    <tr>\n",
       "      <th>2</th>\n",
       "      <td>1807</td>\n",
       "      <td>Karnataka</td>\n",
       "      <td>14</td>\n",
       "      <td>4.24</td>\n",
       "      <td>Hassan</td>\n",
       "      <td>BBS</td>\n",
       "      <td>24640</td>\n",
       "      <td>WNW4L</td>\n",
       "    </tr>\n",
       "    <tr>\n",
       "      <th>3</th>\n",
       "      <td>2451</td>\n",
       "      <td>Karnataka</td>\n",
       "      <td>10</td>\n",
       "      <td>4.70</td>\n",
       "      <td>Bangalore</td>\n",
       "      <td>SSS</td>\n",
       "      <td>23990</td>\n",
       "      <td>6LBJS</td>\n",
       "    </tr>\n",
       "    <tr>\n",
       "      <th>4</th>\n",
       "      <td>2611</td>\n",
       "      <td>Karnataka</td>\n",
       "      <td>10</td>\n",
       "      <td>4.41</td>\n",
       "      <td>Mysore</td>\n",
       "      <td>SSB</td>\n",
       "      <td>25590</td>\n",
       "      <td>ZFZUA</td>\n",
       "    </tr>\n",
       "  </tbody>\n",
       "</table>\n",
       "</div>"
      ],
      "text/plain": [
       "   Amount Pending      State  Tenure  Interest Rate       City Bounce String  \\\n",
       "0             963  Karnataka      11           7.69  Bangalore           SSS   \n",
       "1            1194  Karnataka      11           6.16  Bangalore           SSB   \n",
       "2            1807  Karnataka      14           4.24     Hassan           BBS   \n",
       "3            2451  Karnataka      10           4.70  Bangalore           SSS   \n",
       "4            2611  Karnataka      10           4.41     Mysore           SSB   \n",
       "\n",
       "   Disbursed Amount Loan Number  \n",
       "0             10197       JZ6FS  \n",
       "1             12738       RDIOY  \n",
       "2             24640       WNW4L  \n",
       "3             23990       6LBJS  \n",
       "4             25590       ZFZUA  "
      ]
     },
     "execution_count": 10,
     "metadata": {},
     "output_type": "execute_result"
    }
   ],
   "source": [
    "df.head()"
   ]
  },
  {
   "cell_type": "code",
   "execution_count": 12,
   "id": "20149a62",
   "metadata": {},
   "outputs": [
    {
     "data": {
      "text/html": [
       "<div>\n",
       "<style scoped>\n",
       "    .dataframe tbody tr th:only-of-type {\n",
       "        vertical-align: middle;\n",
       "    }\n",
       "\n",
       "    .dataframe tbody tr th {\n",
       "        vertical-align: top;\n",
       "    }\n",
       "\n",
       "    .dataframe thead th {\n",
       "        text-align: right;\n",
       "    }\n",
       "</style>\n",
       "<table border=\"1\" class=\"dataframe\">\n",
       "  <thead>\n",
       "    <tr style=\"text-align: right;\">\n",
       "      <th></th>\n",
       "      <th>Amount Pending</th>\n",
       "      <th>Tenure</th>\n",
       "      <th>Interest Rate</th>\n",
       "      <th>Disbursed Amount</th>\n",
       "    </tr>\n",
       "  </thead>\n",
       "  <tbody>\n",
       "    <tr>\n",
       "      <th>count</th>\n",
       "      <td>24582.000000</td>\n",
       "      <td>24582.000000</td>\n",
       "      <td>24582.000000</td>\n",
       "      <td>24582.000000</td>\n",
       "    </tr>\n",
       "    <tr>\n",
       "      <th>mean</th>\n",
       "      <td>1791.172687</td>\n",
       "      <td>9.415263</td>\n",
       "      <td>0.934960</td>\n",
       "      <td>17705.195468</td>\n",
       "    </tr>\n",
       "    <tr>\n",
       "      <th>std</th>\n",
       "      <td>937.565507</td>\n",
       "      <td>3.238904</td>\n",
       "      <td>3.114732</td>\n",
       "      <td>14192.671509</td>\n",
       "    </tr>\n",
       "    <tr>\n",
       "      <th>min</th>\n",
       "      <td>423.000000</td>\n",
       "      <td>7.000000</td>\n",
       "      <td>0.000000</td>\n",
       "      <td>2793.000000</td>\n",
       "    </tr>\n",
       "    <tr>\n",
       "      <th>25%</th>\n",
       "      <td>1199.000000</td>\n",
       "      <td>8.000000</td>\n",
       "      <td>0.000000</td>\n",
       "      <td>9857.750000</td>\n",
       "    </tr>\n",
       "    <tr>\n",
       "      <th>50%</th>\n",
       "      <td>1593.000000</td>\n",
       "      <td>8.000000</td>\n",
       "      <td>0.000000</td>\n",
       "      <td>13592.000000</td>\n",
       "    </tr>\n",
       "    <tr>\n",
       "      <th>75%</th>\n",
       "      <td>2083.000000</td>\n",
       "      <td>11.000000</td>\n",
       "      <td>0.000000</td>\n",
       "      <td>19968.000000</td>\n",
       "    </tr>\n",
       "    <tr>\n",
       "      <th>max</th>\n",
       "      <td>13349.000000</td>\n",
       "      <td>24.000000</td>\n",
       "      <td>37.920000</td>\n",
       "      <td>141072.000000</td>\n",
       "    </tr>\n",
       "  </tbody>\n",
       "</table>\n",
       "</div>"
      ],
      "text/plain": [
       "       Amount Pending        Tenure  Interest Rate  Disbursed Amount\n",
       "count    24582.000000  24582.000000   24582.000000      24582.000000\n",
       "mean      1791.172687      9.415263       0.934960      17705.195468\n",
       "std        937.565507      3.238904       3.114732      14192.671509\n",
       "min        423.000000      7.000000       0.000000       2793.000000\n",
       "25%       1199.000000      8.000000       0.000000       9857.750000\n",
       "50%       1593.000000      8.000000       0.000000      13592.000000\n",
       "75%       2083.000000     11.000000       0.000000      19968.000000\n",
       "max      13349.000000     24.000000      37.920000     141072.000000"
      ]
     },
     "execution_count": 12,
     "metadata": {},
     "output_type": "execute_result"
    }
   ],
   "source": [
    "df.describe()"
   ]
  },
  {
   "cell_type": "code",
   "execution_count": 15,
   "id": "7a318a97",
   "metadata": {},
   "outputs": [
    {
     "name": "stdout",
     "output_type": "stream",
     "text": [
      "<class 'pandas.core.frame.DataFrame'>\n",
      "RangeIndex: 24582 entries, 0 to 24581\n",
      "Data columns (total 8 columns):\n",
      " #   Column            Non-Null Count  Dtype  \n",
      "---  ------            --------------  -----  \n",
      " 0   Amount Pending    24582 non-null  int64  \n",
      " 1   State             24582 non-null  object \n",
      " 2   Tenure            24582 non-null  int64  \n",
      " 3   Interest Rate     24582 non-null  float64\n",
      " 4   City              24582 non-null  object \n",
      " 5   Bounce String     24582 non-null  object \n",
      " 6   Disbursed Amount  24582 non-null  int64  \n",
      " 7   Loan Number       24582 non-null  object \n",
      "dtypes: float64(1), int64(3), object(4)\n",
      "memory usage: 1.5+ MB\n"
     ]
    }
   ],
   "source": [
    "df.info()"
   ]
  },
  {
   "cell_type": "code",
   "execution_count": 18,
   "id": "5795320f",
   "metadata": {},
   "outputs": [
    {
     "data": {
      "text/plain": [
       "Amount Pending        int64\n",
       "State                object\n",
       "Tenure                int64\n",
       "Interest Rate       float64\n",
       "City                 object\n",
       "Bounce String        object\n",
       "Disbursed Amount      int64\n",
       "Loan Number          object\n",
       "dtype: object"
      ]
     },
     "execution_count": 18,
     "metadata": {},
     "output_type": "execute_result"
    }
   ],
   "source": [
    "df.dtypes"
   ]
  },
  {
   "cell_type": "code",
   "execution_count": 19,
   "id": "aa79054e",
   "metadata": {},
   "outputs": [
    {
     "data": {
      "text/plain": [
       "Amount Pending      0\n",
       "State               0\n",
       "Tenure              0\n",
       "Interest Rate       0\n",
       "City                0\n",
       "Bounce String       0\n",
       "Disbursed Amount    0\n",
       "Loan Number         0\n",
       "dtype: int64"
      ]
     },
     "execution_count": 19,
     "metadata": {},
     "output_type": "execute_result"
    }
   ],
   "source": [
    "df.isnull().sum()"
   ]
  },
  {
   "cell_type": "code",
   "execution_count": 20,
   "id": "c89d9d42",
   "metadata": {},
   "outputs": [],
   "source": [
    "#str: The label indicating the risk category of the borrower (Unknown Risk, Low Risk, Medium Risk, or High Risk).\n",
    "def calculate_risk_label(bounce_string):\n",
    "   \n",
    "\n",
    "    if 'FEMI' in bounce_string:\n",
    "        return \"Unknown Risk\"  # New customer\n",
    "    elif bounce_string[-6:].count('B') == 0:\n",
    "        return \"Low Risk\"  # No bounce in the last 6 months\n",
    "    elif bounce_string[-6:].count('B') < 2 and bounce_string[-1] != 'B':\n",
    "        return \"Medium Risk\"  # Bounced less than twice in last 6 months and not in the last month\n",
    "    else:\n",
    "        return \"High Risk\"  # Every other customer\n",
    "\n",
    "# Apply the calculate_risk_label function to create the 'Risk' column\n",
    "df['Risk Label'] = df['Bounce String'].apply(calculate_risk_label)"
   ]
  },
  {
   "cell_type": "code",
   "execution_count": 21,
   "id": "3c748bf1",
   "metadata": {},
   "outputs": [
    {
     "data": {
      "text/plain": [
       "Low Risk        14776\n",
       "High Risk        4526\n",
       "Unknown Risk     3222\n",
       "Medium Risk      2058\n",
       "Name: Risk Label, dtype: int64"
      ]
     },
     "execution_count": 21,
     "metadata": {},
     "output_type": "execute_result"
    }
   ],
   "source": [
    "df[\"Risk Label\"].value_counts()"
   ]
  },
  {
   "cell_type": "markdown",
   "id": "73571bdd",
   "metadata": {},
   "source": [
    "# Tenure Label"
   ]
  },
  {
   "cell_type": "code",
   "execution_count": 22,
   "id": "ef4049dd",
   "metadata": {},
   "outputs": [],
   "source": [
    "def calculate_tenure_label(bounce_string, tenure):\n",
    "    \n",
    "    months_on_book = len(bounce_string)\n",
    "    \n",
    "    if months_on_book <= 3:\n",
    "        return \"Early Tenure\"\n",
    "    \n",
    "    elif months_on_book >= (tenure - 3):\n",
    "        return \"Late Tenure\"\n",
    "    \n",
    "    else:\n",
    "        return \"Mid Tenure\"\n",
    "\n",
    "# Let's create a new column 'Tenure Label' using the calculate_tenure_label function\n",
    "\n",
    "df['Tenure Label'] = df.apply(lambda row: calculate_tenure_label(row['Bounce String'], row['Tenure']), axis=1)"
   ]
  },
  {
   "cell_type": "code",
   "execution_count": 23,
   "id": "7e164bba",
   "metadata": {},
   "outputs": [
    {
     "data": {
      "text/plain": [
       "Early Tenure    12419\n",
       "Mid Tenure       7588\n",
       "Late Tenure      4575\n",
       "Name: Tenure Label, dtype: int64"
      ]
     },
     "execution_count": 23,
     "metadata": {},
     "output_type": "execute_result"
    }
   ],
   "source": [
    "df[\"Tenure Label\"].value_counts()"
   ]
  },
  {
   "cell_type": "markdown",
   "id": "b992e581",
   "metadata": {},
   "source": [
    "# Ticket Size"
   ]
  },
  {
   "cell_type": "code",
   "execution_count": 24,
   "id": "c905e172",
   "metadata": {},
   "outputs": [],
   "source": [
    "df = df.sort_values(by='Amount Pending')\n",
    "total_amount_pending = df['Amount Pending'].sum()\n",
    "cohort_size = total_amount_pending / 3\n",
    "cumulative_amount = 0\n",
    "cohort_labels = []\n",
    "\n",
    "for amount in df['Amount Pending']:\n",
    "    if cumulative_amount + amount <= cohort_size:\n",
    "        cumulative_amount += amount\n",
    "        cohort_labels.append('Low ticket size')\n",
    "    elif cumulative_amount + amount <= 2 * cohort_size:\n",
    "        cumulative_amount += amount\n",
    "        cohort_labels.append('Medium ticket size')\n",
    "    else:\n",
    "        cumulative_amount += amount\n",
    "        cohort_labels.append('High ticket size')\n",
    "\n",
    "# Adding 'Ticket Size' column to DataFrame\n",
    "df['Ticket Size'] = cohort_labels"
   ]
  },
  {
   "cell_type": "code",
   "execution_count": 25,
   "id": "7fbb38bd",
   "metadata": {},
   "outputs": [
    {
     "data": {
      "text/plain": [
       "Low ticket size       12296\n",
       "Medium ticket size     7731\n",
       "High ticket size       4555\n",
       "Name: Ticket Size, dtype: int64"
      ]
     },
     "execution_count": 25,
     "metadata": {},
     "output_type": "execute_result"
    }
   ],
   "source": [
    "df[\"Ticket Size\"].value_counts()"
   ]
  },
  {
   "cell_type": "code",
   "execution_count": 26,
   "id": "38e97e4e",
   "metadata": {},
   "outputs": [
    {
     "name": "stdout",
     "output_type": "stream",
     "text": [
      "14676828\n",
      "14676862\n",
      "14676917\n"
     ]
    }
   ],
   "source": [
    "print(df[df['Ticket Size'] == 'Low ticket size']['Amount Pending'].sum())\n",
    "print(df[df['Ticket Size'] == 'Medium ticket size']['Amount Pending'].sum())\n",
    "print(df[df['Ticket Size'] == 'High ticket size']['Amount Pending'].sum())"
   ]
  },
  {
   "cell_type": "code",
   "execution_count": 27,
   "id": "6556c14d",
   "metadata": {},
   "outputs": [
    {
     "data": {
      "text/html": [
       "<div>\n",
       "<style scoped>\n",
       "    .dataframe tbody tr th:only-of-type {\n",
       "        vertical-align: middle;\n",
       "    }\n",
       "\n",
       "    .dataframe tbody tr th {\n",
       "        vertical-align: top;\n",
       "    }\n",
       "\n",
       "    .dataframe thead th {\n",
       "        text-align: right;\n",
       "    }\n",
       "</style>\n",
       "<table border=\"1\" class=\"dataframe\">\n",
       "  <thead>\n",
       "    <tr style=\"text-align: right;\">\n",
       "      <th></th>\n",
       "      <th>Amount Pending</th>\n",
       "      <th>State</th>\n",
       "      <th>Tenure</th>\n",
       "      <th>Interest Rate</th>\n",
       "      <th>City</th>\n",
       "      <th>Bounce String</th>\n",
       "      <th>Disbursed Amount</th>\n",
       "      <th>Loan Number</th>\n",
       "      <th>Risk Label</th>\n",
       "      <th>Tenure Label</th>\n",
       "      <th>Ticket Size</th>\n",
       "    </tr>\n",
       "  </thead>\n",
       "  <tbody>\n",
       "    <tr>\n",
       "      <th>1534</th>\n",
       "      <td>423</td>\n",
       "      <td>Maharashtra</td>\n",
       "      <td>11</td>\n",
       "      <td>11.84</td>\n",
       "      <td>Sangli</td>\n",
       "      <td>FEMI</td>\n",
       "      <td>4389</td>\n",
       "      <td>HEMS0</td>\n",
       "      <td>Unknown Risk</td>\n",
       "      <td>Mid Tenure</td>\n",
       "      <td>Low ticket size</td>\n",
       "    </tr>\n",
       "    <tr>\n",
       "      <th>1982</th>\n",
       "      <td>444</td>\n",
       "      <td>Tamil Nadu</td>\n",
       "      <td>11</td>\n",
       "      <td>12.23</td>\n",
       "      <td>VIRUDHUNAGAR</td>\n",
       "      <td>FEMI</td>\n",
       "      <td>4598</td>\n",
       "      <td>1BYJD</td>\n",
       "      <td>Unknown Risk</td>\n",
       "      <td>Mid Tenure</td>\n",
       "      <td>Low ticket size</td>\n",
       "    </tr>\n",
       "    <tr>\n",
       "      <th>889</th>\n",
       "      <td>451</td>\n",
       "      <td>Maharashtra</td>\n",
       "      <td>7</td>\n",
       "      <td>37.92</td>\n",
       "      <td>Pune</td>\n",
       "      <td>LSSSSB</td>\n",
       "      <td>2793</td>\n",
       "      <td>7COLC</td>\n",
       "      <td>High Risk</td>\n",
       "      <td>Late Tenure</td>\n",
       "      <td>Low ticket size</td>\n",
       "    </tr>\n",
       "    <tr>\n",
       "      <th>265</th>\n",
       "      <td>522</td>\n",
       "      <td>Karnataka</td>\n",
       "      <td>11</td>\n",
       "      <td>12.83</td>\n",
       "      <td>Bagalkot</td>\n",
       "      <td>FEMI</td>\n",
       "      <td>5390</td>\n",
       "      <td>587TX</td>\n",
       "      <td>Unknown Risk</td>\n",
       "      <td>Mid Tenure</td>\n",
       "      <td>Low ticket size</td>\n",
       "    </tr>\n",
       "    <tr>\n",
       "      <th>1486</th>\n",
       "      <td>522</td>\n",
       "      <td>Maharashtra</td>\n",
       "      <td>11</td>\n",
       "      <td>12.83</td>\n",
       "      <td>Pune</td>\n",
       "      <td>S</td>\n",
       "      <td>5390</td>\n",
       "      <td>5QJN0</td>\n",
       "      <td>Low Risk</td>\n",
       "      <td>Early Tenure</td>\n",
       "      <td>Low ticket size</td>\n",
       "    </tr>\n",
       "  </tbody>\n",
       "</table>\n",
       "</div>"
      ],
      "text/plain": [
       "      Amount Pending        State  Tenure  Interest Rate          City  \\\n",
       "1534             423  Maharashtra      11          11.84        Sangli   \n",
       "1982             444   Tamil Nadu      11          12.23  VIRUDHUNAGAR   \n",
       "889              451  Maharashtra       7          37.92          Pune   \n",
       "265              522    Karnataka      11          12.83      Bagalkot   \n",
       "1486             522  Maharashtra      11          12.83          Pune   \n",
       "\n",
       "     Bounce String  Disbursed Amount Loan Number    Risk Label  Tenure Label  \\\n",
       "1534          FEMI              4389       HEMS0  Unknown Risk    Mid Tenure   \n",
       "1982          FEMI              4598       1BYJD  Unknown Risk    Mid Tenure   \n",
       "889         LSSSSB              2793       7COLC     High Risk   Late Tenure   \n",
       "265           FEMI              5390       587TX  Unknown Risk    Mid Tenure   \n",
       "1486             S              5390       5QJN0      Low Risk  Early Tenure   \n",
       "\n",
       "          Ticket Size  \n",
       "1534  Low ticket size  \n",
       "1982  Low ticket size  \n",
       "889   Low ticket size  \n",
       "265   Low ticket size  \n",
       "1486  Low ticket size  "
      ]
     },
     "execution_count": 27,
     "metadata": {},
     "output_type": "execute_result"
    }
   ],
   "source": [
    "df.head()"
   ]
  },
  {
   "cell_type": "code",
   "execution_count": 31,
   "id": "9d85a765",
   "metadata": {},
   "outputs": [
    {
     "data": {
      "image/png": "[encoded data removed]",
      "text/plain": [
       "<Figure size 576x432 with 1 Axes>"
      ]
     },
     "metadata": {
      "needs_background": "light"
     },
     "output_type": "display_data"
    }
   ],
   "source": [
    "# Count the number of borrowers in each risk category\n",
    "risk_counts = df['Risk Label'].value_counts()\n",
    "\n",
    "# Plot a bar chart for the risk distribution\n",
    "plt.figure(figsize=(8, 6))\n",
    "risk_counts.plot(kind='bar', color='Blue')\n",
    "plt.title('Distribution of Borrowers by Risk')\n",
    "plt.xlabel('Risk Label')\n",
    "plt.ylabel('Number of Borrowers')\n",
    "plt.xticks(rotation=45)\n",
    "plt.show()"
   ]
  },
  {
   "cell_type": "code",
   "execution_count": 32,
   "id": "f5a8ee84",
   "metadata": {},
   "outputs": [
    {
     "data": {
      "image/png": "[encoded data removed]",
      "text/plain": [
       "<Figure size 576x432 with 1 Axes>"
      ]
     },
     "metadata": {
      "needs_background": "light"
     },
     "output_type": "display_data"
    }
   ],
   "source": [
    "#Count the number of borrowers in each tenure label category\n",
    "tenure_counts = df['Tenure Label'].value_counts()\n",
    "\n",
    "# Plot a horizontal bar chart for the tenure completion distribution\n",
    "plt.figure(figsize=(8, 6))\n",
    "tenure_counts.plot(kind='barh', color='Grey')\n",
    "plt.title('Distribution of Borrowers by Tenure Completion')\n",
    "plt.xlabel('Number of Borrowers')\n",
    "plt.ylabel('Tenure Label')\n",
    "plt.show()"
   ]
  },
  {
   "cell_type": "code",
   "execution_count": 34,
   "id": "3441f677",
   "metadata": {},
   "outputs": [
    {
     "data": {
      "image/png": "[encoded data removed]",
      "text/plain": [
       "<Figure size 576x432 with 1 Axes>"
      ]
     },
     "metadata": {},
     "output_type": "display_data"
    }
   ],
   "source": [
    "# Count the number of borrowers in each ticket size category\n",
    "ticket_size_counts = df['Ticket Size'].value_counts()\n",
    "\n",
    "# Plot a pie chart for the ticket size distribution\n",
    "plt.figure(figsize=(8, 6))\n",
    "ticket_size_counts.plot(kind='pie', colors=['red', 'blue', 'yellow'])\n",
    "plt.title('Distribution of Borrowers by Ticket Size')\n",
    "plt.ylabel('')\n",
    "plt.show()"
   ]
  },
  {
   "cell_type": "code",
   "execution_count": 36,
   "id": "2f19508a",
   "metadata": {},
   "outputs": [
    {
     "name": "stdout",
     "output_type": "stream",
     "text": [
      "Recommendation: Spend on Voice bot channel with total cost 35600 rupees.\n",
      "Spend on Digital channel with total cost : 68835 rupees.\n",
      "Spend on Voice bot channel with total cost : 35600 rupees.\n",
      "Spend on Telecalling channel with total cost : 1229100 rupees.\n"
     ]
    }
   ],
   "source": [
    "# Constants defining the cost of each channel\n",
    "DIGITAL_COST = 5\n",
    "VOICE_BOT_COST = 10\n",
    "TELECALLING_COST = 50\n",
    "\n",
    "# Function to calculate the cost for each channel\n",
    "def calculate_channel_cost(df):\n",
    "    digital_criteria = (df['Risk Label'] == 'Unknown Risk') | (df['Amount Pending'] < df['Amount Pending'].median())\n",
    "    voice_bot_criteria = (df['City'].isin(['Mumbai', 'Pune', 'Delhi', 'Ahmedabad', 'Surat', 'Chennai', 'Kolkata', 'Bangalore', 'Hyderabad'])) & \\\n",
    "                         ((df['Risk Label'] == 'Low Risk') | (df['Ticket Size'] != 'High ticket size'))\n",
    "    \n",
    "    digital_cost = DIGITAL_COST * digital_criteria.sum()\n",
    "    voice_bot_cost = VOICE_BOT_COST * voice_bot_criteria.sum()\n",
    "    telecalling_cost = TELECALLING_COST * len(df)\n",
    "    \n",
    "    return digital_cost, voice_bot_cost, telecalling_cost\n",
    "\n",
    "# Sample DataFrame 'df' containing loan data\n",
    "# Assuming 'Risk Label', 'Tenure Label', 'Ticket Size' columns are already created\n",
    "# Adjust the DataFrame name and column names according to your actual DataFrame structure\n",
    "\n",
    "# Calculate the cost for each channel\n",
    "digital_cost, voice_bot_cost, telecalling_cost = calculate_channel_cost(df)\n",
    "\n",
    "# Output the channel with the lowest total cost\n",
    "min_cost_channel = min(digital_cost, voice_bot_cost, telecalling_cost)\n",
    "\n",
    "# Output the channel with its total cost\n",
    "if min_cost_channel == digital_cost:\n",
    "    print(f\"Recommendation: Spend on Digital channel with total cost {digital_cost} rupees.\")\n",
    "elif min_cost_channel == voice_bot_cost:\n",
    "    print(f\"Recommendation: Spend on Voice bot channel with total cost {voice_bot_cost} rupees.\")\n",
    "else:\n",
    "    print(f\"Recommendation: Spend on Telecalling channel with total cost {telecalling_cost} rupees.\")\n",
    "\n",
    "print(f\"Spend on Digital channel with total cost : {digital_cost} rupees.\")  \n",
    "print(f\"Spend on Voice bot channel with total cost : {voice_bot_cost} rupees.\")\n",
    "print(f\"Spend on Telecalling channel with total cost : {telecalling_cost} rupees.\")\n"
   ]
  },
  {
   "cell_type": "code",
   "execution_count": null,
   "id": "4da650b7",
   "metadata": {},
   "outputs": [],
   "source": []
  }
 ],
 "metadata": {
  "kernelspec": {
   "display_name": "Python 3 (ipykernel)",
   "language": "python",
   "name": "python3"
  },
  "language_info": {
   "codemirror_mode": {
    "name": "ipython",
    "version": 3
   },
   "file_extension": ".py",
   "mimetype": "text/x-python",
   "name": "python",
   "nbconvert_exporter": "python",
   "pygments_lexer": "ipython3",
   "version": "3.9.12"
  }
 },
 "nbformat": 4,
 "nbformat_minor": 5
}
